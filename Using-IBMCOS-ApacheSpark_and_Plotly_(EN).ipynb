{
 "cells": [
  {
   "cell_type": "markdown",
   "metadata": {},
   "source": [
    "# Generating Visualisations with Plotly and Integrating IBM Cloud Object Storage and Apache Spark with ibmos2spark package."
   ]
  },
  {
   "cell_type": "markdown",
   "metadata": {},
   "source": [
    "### 1 - Setup and Credentials Configuration"
   ]
  },
  {
   "cell_type": "markdown",
   "metadata": {},
   "source": [
    "#### 1.1 - Dependencies and spark context initialization"
   ]
  },
  {
   "cell_type": "code",
   "execution_count": 51,
   "metadata": {},
   "outputs": [],
   "source": [
    "# Imports\n",
    "\n",
    "from IPython.display import Image, HTML, display\n",
    "import plotly as py\n",
    "import plotly.graph_objs as go\n",
    "import pandas as pd\n",
    "import requests\n",
    "requests.packages.urllib3.disable_warnings()"
   ]
  },
  {
   "cell_type": "code",
   "execution_count": 52,
   "metadata": {},
   "outputs": [],
   "source": [
    "# Spark Context initialization\n",
    "\n",
    "from pyspark.sql import SQLContext\n",
    "sqlContext = SQLContext(sc)"
   ]
  },
  {
   "cell_type": "markdown",
   "metadata": {},
   "source": [
    "#### 1.2 - Plotly credentials configuration"
   ]
  },
  {
   "cell_type": "code",
   "execution_count": 53,
   "metadata": {},
   "outputs": [],
   "source": [
    "# Write your Plotly credentials in the function below\n",
    "\n",
    "py.tools.set_credentials_file(username='<YOUR USERNAME>', api_key='<YOUR API-KEY>')"
   ]
  },
  {
   "cell_type": "markdown",
   "metadata": {},
   "source": [
    "#### 1.3 - Data extraction from .csv file on Cloud Object Storage to a SparkSession DataFrame"
   ]
  },
  {
   "cell_type": "code",
   "execution_count": null,
   "metadata": {},
   "outputs": [],
   "source": [
    "# Click on this cell;\n",
    "# Click on \"Find and add Data\" (top-right corner);\n",
    "# Select desired .csv file (enem2016data.csv1.csv) and choose: \"Insert as SparkSession Dataframe\".\n",
    "\n",
    "'<INSERT GENERATED CODE HERE>'"
   ]
  },
  {
   "cell_type": "markdown",
   "metadata": {},
   "source": [
    "### 2 - Data Preparation"
   ]
  },
  {
   "cell_type": "code",
   "execution_count": 17,
   "metadata": {},
   "outputs": [
    {
     "name": "stdout",
     "output_type": "stream",
     "text": [
      "+-------+----+----+---------+----+---------------+----------+----------+----------+----------+\n",
      "|TP_SEXO|Q001|Q002|TP_ESCOLA|Q006|NU_NOTA_REDACAO|NU_NOTA_CN|NU_NOTA_CH|NU_NOTA_LC|NU_NOTA_MT|\n",
      "+-------+----+----+---------+----+---------------+----------+----------+----------+----------+\n",
      "|      M|   E|   E|        1|   B|            580|       550|     629.4|       574|     462.9|\n",
      "|      M|   H|   H|        1|   D|            560|     576.6|     669.8|     610.1|     423.6|\n",
      "|      M|   B|   E|        1|   D|            480|     485.8|     576.9|     637.4|     414.6|\n",
      "|      M|   E|   E|        1|   B|            620|     571.4|     628.6|     646.2|     709.4|\n",
      "|      F|   A|   A|        1|   A|           null|      null|      null|      null|      null|\n",
      "+-------+----+----+---------+----+---------------+----------+----------+----------+----------+\n",
      "only showing top 5 rows\n",
      "\n"
     ]
    }
   ],
   "source": [
    "# Desired columns selection\n",
    "\n",
    "df = df_data_2.select('TP_SEXO', 'Q001', 'Q002', 'TP_ESCOLA', 'Q006', 'NU_NOTA_REDACAO', 'NU_NOTA_CN', 'NU_NOTA_CH', 'NU_NOTA_LC', 'NU_NOTA_MT')\n",
    "df.show(5)"
   ]
  },
  {
   "cell_type": "code",
   "execution_count": 18,
   "metadata": {},
   "outputs": [
    {
     "name": "stdout",
     "output_type": "stream",
     "text": [
      "Rows:  9999\n",
      "Rows:  7201\n"
     ]
    }
   ],
   "source": [
    "# Blank lines removal\n",
    "\n",
    "print(\"Rows: \", df.count())\n",
    "df = df.dropna()\n",
    "print(\"Rows: \", df.count())"
   ]
  },
  {
   "cell_type": "code",
   "execution_count": 20,
   "metadata": {},
   "outputs": [],
   "source": [
    "# Conversion between Spark and Pandas DataFrames (for Plotly visualisations)\n",
    "\n",
    "sqlCtx.registerDataFrameAsTable(df, \"DFasTABLE\")\n",
    "df_rd = sqlCtx.sql(\"SELECT NU_NOTA_REDACAO as rd from DFasTABLE\")\n",
    "df_cn = sqlCtx.sql(\"SELECT NU_NOTA_CN as cn from DFasTABLE\")\n",
    "df_mt = sqlCtx.sql(\"SELECT NU_NOTA_MT as mt from DFasTABLE\")\n",
    "df_ch = sqlCtx.sql(\"SELECT NU_NOTA_CH as ch from DFasTABLE\")\n",
    "df_lc = sqlCtx.sql(\"SELECT NU_NOTA_LC as lc from DFasTABLE\")\n",
    "data_rd = [go.Histogram(x = df_rd.toPandas()['rd'])]\n",
    "data_cn = [go.Histogram(x = df_cn.toPandas()['cn'])]\n",
    "data_mt = [go.Histogram(x = df_mt.toPandas()['mt'])]\n",
    "data_ch = [go.Histogram(x = df_ch.toPandas()['ch'])]\n",
    "data_lc = [go.Histogram(x = df_lc.toPandas()['lc'])]"
   ]
  },
  {
   "cell_type": "markdown",
   "metadata": {},
   "source": [
    "### 3 - Visualisations: Histograms and Pie Charts"
   ]
  },
  {
   "cell_type": "code",
   "execution_count": 23,
   "metadata": {},
   "outputs": [
    {
     "data": {
      "text/html": [
       "<iframe id=\"igraph\" scrolling=\"no\" style=\"border:none;\" seamless=\"seamless\" src=\"https://plot.ly/~vmunhozpf/21.embed\" height=\"525px\" width=\"100%\"></iframe>"
      ],
      "text/plain": [
       "<plotly.tools.PlotlyDisplay object>"
      ]
     },
     "execution_count": 23,
     "metadata": {},
     "output_type": "execute_result"
    }
   ],
   "source": [
    "layout = go.Layout(\n",
    "    title = \"Histogram: ENEM 2016 Text Writing Exam\",\n",
    "    xaxis = dict(\n",
    "        range = [0, 1000]\n",
    "    )\n",
    ")\n",
    "\n",
    "fig = go.Figure(data = data_rd, layout = layout)\n",
    "py.plotly.iplot(fig, filename=\"enem2016_redacao\")"
   ]
  },
  {
   "cell_type": "code",
   "execution_count": 24,
   "metadata": {},
   "outputs": [
    {
     "data": {
      "text/html": [
       "<iframe id=\"igraph\" scrolling=\"no\" style=\"border:none;\" seamless=\"seamless\" src=\"https://plot.ly/~vmunhozpf/23.embed\" height=\"525px\" width=\"100%\"></iframe>"
      ],
      "text/plain": [
       "<plotly.tools.PlotlyDisplay object>"
      ]
     },
     "execution_count": 24,
     "metadata": {},
     "output_type": "execute_result"
    }
   ],
   "source": [
    "layout = go.Layout(\n",
    "    title = \"Histogram: ENEM 2016 Biology, Chemistry and Physics Exam\",\n",
    "    xaxis = dict(\n",
    "        range = [0, 1000]\n",
    "    )\n",
    ")\n",
    "\n",
    "fig = go.Figure(data = data_cn, layout = layout)\n",
    "py.plotly.iplot(fig, filename=\"enem2016_ciencias_da_natureza\")"
   ]
  },
  {
   "cell_type": "code",
   "execution_count": 25,
   "metadata": {},
   "outputs": [
    {
     "data": {
      "text/html": [
       "<iframe id=\"igraph\" scrolling=\"no\" style=\"border:none;\" seamless=\"seamless\" src=\"https://plot.ly/~vmunhozpf/25.embed\" height=\"525px\" width=\"100%\"></iframe>"
      ],
      "text/plain": [
       "<plotly.tools.PlotlyDisplay object>"
      ]
     },
     "execution_count": 25,
     "metadata": {},
     "output_type": "execute_result"
    }
   ],
   "source": [
    "layout = go.Layout(\n",
    "    title = \"Histogram: ENEM 2016 Mathematics Exam\",\n",
    "    xaxis = dict(\n",
    "        range = [0, 1000]\n",
    "    )\n",
    ")\n",
    "\n",
    "fig = go.Figure(data = data_mt, layout = layout)\n",
    "py.plotly.iplot(fig, filename=\"enem2016_matematica\")"
   ]
  },
  {
   "cell_type": "code",
   "execution_count": 26,
   "metadata": {},
   "outputs": [
    {
     "data": {
      "text/html": [
       "<iframe id=\"igraph\" scrolling=\"no\" style=\"border:none;\" seamless=\"seamless\" src=\"https://plot.ly/~vmunhozpf/27.embed\" height=\"525px\" width=\"100%\"></iframe>"
      ],
      "text/plain": [
       "<plotly.tools.PlotlyDisplay object>"
      ]
     },
     "execution_count": 26,
     "metadata": {},
     "output_type": "execute_result"
    }
   ],
   "source": [
    "layout = go.Layout(\n",
    "    title = \"Histogram: ENEM 2016 Humanities Exam\",\n",
    "    xaxis = dict(\n",
    "        range = [0, 1000]\n",
    "    )\n",
    ")\n",
    "\n",
    "fig = go.Figure(data = data_ch, layout = layout)\n",
    "py.plotly.iplot(fig, filename=\"enem2016_ciencias_humanas\")"
   ]
  },
  {
   "cell_type": "code",
   "execution_count": 27,
   "metadata": {},
   "outputs": [
    {
     "data": {
      "text/html": [
       "<iframe id=\"igraph\" scrolling=\"no\" style=\"border:none;\" seamless=\"seamless\" src=\"https://plot.ly/~vmunhozpf/29.embed\" height=\"525px\" width=\"100%\"></iframe>"
      ],
      "text/plain": [
       "<plotly.tools.PlotlyDisplay object>"
      ]
     },
     "execution_count": 27,
     "metadata": {},
     "output_type": "execute_result"
    }
   ],
   "source": [
    "layout = go.Layout(\n",
    "    title = \"Histogram: ENEM 2016 Literature Exam\",\n",
    "    xaxis = dict(\n",
    "        range = [0, 1000]\n",
    "    )\n",
    ")\n",
    "\n",
    "fig = go.Figure(data = data_lc, layout = layout)\n",
    "py.plotly.iplot(fig, filename=\"enem2016_linguagem_e_comunicacao\")"
   ]
  },
  {
   "cell_type": "code",
   "execution_count": 29,
   "metadata": {},
   "outputs": [
    {
     "data": {
      "text/html": [
       "<iframe id=\"igraph\" scrolling=\"no\" style=\"border:none;\" seamless=\"seamless\" src=\"https://plot.ly/~vmunhozpf/41.embed\" height=\"525px\" width=\"100%\"></iframe>"
      ],
      "text/plain": [
       "<plotly.tools.PlotlyDisplay object>"
      ]
     },
     "execution_count": 29,
     "metadata": {},
     "output_type": "execute_result"
    }
   ],
   "source": [
    "# This is a pie chart showing the family income of the ENEM 2016 candidates.\n",
    "# 1 SM = one brazilian mininum salary (330$ USD per month)\n",
    "\n",
    "labels = ['1 SM','2 SM','3 SM','4 SM','5 SM','6 SM','7 SM','8 SM','9 SM','10 SM','11 SM','12 SM','13 SM','14 SM','15 SM','16 SM','17 SM']\n",
    "values = [138,1264,1759,1021,740,484,536,394,250,129,82,45,54,95,82,60,68]\n",
    "\n",
    "trace = go.Pie(labels = labels, values = values)\n",
    "\n",
    "py.plotly.iplot([trace], filename='basic_pie_chart')"
   ]
  },
  {
   "cell_type": "code",
   "execution_count": 31,
   "metadata": {},
   "outputs": [
    {
     "data": {
      "text/html": [
       "<iframe id=\"igraph\" scrolling=\"no\" style=\"border:none;\" seamless=\"seamless\" src=\"https://plot.ly/~vmunhozpf/43.embed\" height=\"525px\" width=\"100%\"></iframe>"
      ],
      "text/plain": [
       "<plotly.tools.PlotlyDisplay object>"
      ]
     },
     "execution_count": 31,
     "metadata": {},
     "output_type": "execute_result"
    }
   ],
   "source": [
    "# This is an overlaid histogram showing the education level of the ENEM 2016 candidates parents.\n",
    "# Levels (starting from lowest level of education - A = incomplete basic schooling): A, B, C, D, E, F, G, H\n",
    "\n",
    "df_q1 = sqlCtx.sql(\"SELECT Q001 as q1 from DFasTABLE\")\n",
    "df_q2 = sqlCtx.sql(\"SELECT Q002 as q2 from DFasTABLE\")\n",
    "\n",
    "trace1 = go.Histogram(\n",
    "    x=df_q1.toPandas()['q1'],\n",
    "    opacity=0.3,\n",
    "    name=\"Father education level\"\n",
    ")\n",
    "trace2 = go.Histogram(\n",
    "    x=df_q2.toPandas()['q2'],\n",
    "    opacity=0.3,\n",
    "    name=\"Mother education level\"\n",
    ")\n",
    "\n",
    "data = [trace1, trace2]\n",
    "layout = go.Layout(barmode='overlay')\n",
    "fig = go.Figure(data=data, layout=layout)\n",
    "\n",
    "py.plotly.iplot(fig, filename='overlaid histogram')"
   ]
  },
  {
   "cell_type": "code",
   "execution_count": 33,
   "metadata": {},
   "outputs": [
    {
     "data": {
      "text/html": [
       "<iframe id=\"igraph\" scrolling=\"no\" style=\"border:none;\" seamless=\"seamless\" src=\"https://plot.ly/~vmunhozpf/45.embed\" height=\"525px\" width=\"100%\"></iframe>"
      ],
      "text/plain": [
       "<plotly.tools.PlotlyDisplay object>"
      ]
     },
     "execution_count": 33,
     "metadata": {},
     "output_type": "execute_result"
    }
   ],
   "source": [
    "# This is a pie chart showing the ENEM 2016 candidates genders.\n",
    "\n",
    "labels = ['MEN', 'WOMEN']\n",
    "values = [2906, 4295]\n",
    "\n",
    "trace = go.Pie(labels = labels, values = values)\n",
    "\n",
    "py.plotly.iplot([trace], filename='basic_pie_chart2')"
   ]
  }
 ],
 "metadata": {
  "kernelspec": {
   "display_name": "Python 3.5 with Spark 2.1",
   "language": "python",
   "name": "python3-spark21"
  },
  "language_info": {
   "codemirror_mode": {
    "name": "ipython",
    "version": 3
   },
   "file_extension": ".py",
   "mimetype": "text/x-python",
   "name": "python",
   "nbconvert_exporter": "python",
   "pygments_lexer": "ipython3",
   "version": "3.5.4"
  }
 },
 "nbformat": 4,
 "nbformat_minor": 1
}
