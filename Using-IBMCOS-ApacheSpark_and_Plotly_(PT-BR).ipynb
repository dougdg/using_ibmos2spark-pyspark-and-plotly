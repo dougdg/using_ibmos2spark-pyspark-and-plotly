{
 "cells": [
  {
   "cell_type": "markdown",
   "metadata": {},
   "source": [
    "# Gerando Visualizações com Plotly e Integrando Cloud Object Storage e Apache Spark com ibmos2spark"
   ]
  },
  {
   "cell_type": "markdown",
   "metadata": {},
   "source": [
    "### 1 - Setup Inicial e Configuração de Credenciais"
   ]
  },
  {
   "cell_type": "markdown",
   "metadata": {},
   "source": [
    "#### 1.1 - Importação de dependências e inicialização do Spark"
   ]
  },
  {
   "cell_type": "code",
   "execution_count": 51,
   "metadata": {},
   "outputs": [],
   "source": [
    "# Importação de algumas dependências\n",
    "\n",
    "from IPython.display import Image, HTML, display\n",
    "import plotly as py\n",
    "import plotly.graph_objs as go\n",
    "import pandas as pd\n",
    "import requests\n",
    "requests.packages.urllib3.disable_warnings()"
   ]
  },
  {
   "cell_type": "code",
   "execution_count": 52,
   "metadata": {},
   "outputs": [],
   "source": [
    "# Inicialização do Spark Context\n",
    "\n",
    "from pyspark.sql import SQLContext\n",
    "sqlContext = SQLContext(sc)"
   ]
  },
  {
   "cell_type": "markdown",
   "metadata": {},
   "source": [
    "#### 1.2 - Configuração de credenciais do pacote Plotly"
   ]
  },
  {
   "cell_type": "code",
   "execution_count": 53,
   "metadata": {},
   "outputs": [],
   "source": [
    "# Escreva suas credenciais Plotly na função abaixo\n",
    "\n",
    "py.tools.set_credentials_file(username='<INSIRA SEU USERNAME AQUI>', api_key='<INSIRA SUA API-KEY AQUI>')"
   ]
  },
  {
   "cell_type": "markdown",
   "metadata": {},
   "source": [
    "#### 1.3 - Inserção dos dados do arquivo .csv no Cloud Object Storage em um DataFrame Spark"
   ]
  },
  {
   "cell_type": "code",
   "execution_count": null,
   "metadata": {},
   "outputs": [],
   "source": [
    "# Clique nesta célula;\n",
    "# Clique em \"Find and add Data\" (canto superior direito);\n",
    "# Escolha o arquivo .csv (enem2016data.csv1.csv) e selecione \"Insert as SparkSession Dataframe\".\n",
    "\n",
    "'<INSIRA O CÓDIGO GERADO AQUI>'"
   ]
  },
  {
   "cell_type": "markdown",
   "metadata": {},
   "source": [
    "### 2 - Preparação dos Dados"
   ]
  },
  {
   "cell_type": "code",
   "execution_count": 17,
   "metadata": {},
   "outputs": [
    {
     "name": "stdout",
     "output_type": "stream",
     "text": [
      "+-------+----+----+---------+----+---------------+----------+----------+----------+----------+\n",
      "|TP_SEXO|Q001|Q002|TP_ESCOLA|Q006|NU_NOTA_REDACAO|NU_NOTA_CN|NU_NOTA_CH|NU_NOTA_LC|NU_NOTA_MT|\n",
      "+-------+----+----+---------+----+---------------+----------+----------+----------+----------+\n",
      "|      M|   E|   E|        1|   B|            580|       550|     629.4|       574|     462.9|\n",
      "|      M|   H|   H|        1|   D|            560|     576.6|     669.8|     610.1|     423.6|\n",
      "|      M|   B|   E|        1|   D|            480|     485.8|     576.9|     637.4|     414.6|\n",
      "|      M|   E|   E|        1|   B|            620|     571.4|     628.6|     646.2|     709.4|\n",
      "|      F|   A|   A|        1|   A|           null|      null|      null|      null|      null|\n",
      "+-------+----+----+---------+----+---------------+----------+----------+----------+----------+\n",
      "only showing top 5 rows\n",
      "\n"
     ]
    }
   ],
   "source": [
    "# Seleção das colunas desejadas\n",
    "\n",
    "df = df_data_2.select('TP_SEXO', 'Q001', 'Q002', 'TP_ESCOLA', 'Q006', 'NU_NOTA_REDACAO', 'NU_NOTA_CN', 'NU_NOTA_CH', 'NU_NOTA_LC', 'NU_NOTA_MT')\n",
    "df.show(5)"
   ]
  },
  {
   "cell_type": "code",
   "execution_count": 18,
   "metadata": {},
   "outputs": [
    {
     "name": "stdout",
     "output_type": "stream",
     "text": [
      "Rows:  9999\n",
      "Rows:  7201\n"
     ]
    }
   ],
   "source": [
    "# Remoção de linhas com dados faltantes\n",
    "\n",
    "print(\"Rows: \", df.count())\n",
    "df = df.dropna()\n",
    "print(\"Rows: \", df.count())"
   ]
  },
  {
   "cell_type": "code",
   "execution_count": 20,
   "metadata": {},
   "outputs": [],
   "source": [
    "# Conversão de Spark DataFrames para Pandas DataFrames (para utilizar o pacote Plotly)\n",
    "\n",
    "sqlCtx.registerDataFrameAsTable(df, \"DFasTABLE\")\n",
    "df_rd = sqlCtx.sql(\"SELECT NU_NOTA_REDACAO as rd from DFasTABLE\")\n",
    "df_cn = sqlCtx.sql(\"SELECT NU_NOTA_CN as cn from DFasTABLE\")\n",
    "df_mt = sqlCtx.sql(\"SELECT NU_NOTA_MT as mt from DFasTABLE\")\n",
    "df_ch = sqlCtx.sql(\"SELECT NU_NOTA_CH as ch from DFasTABLE\")\n",
    "df_lc = sqlCtx.sql(\"SELECT NU_NOTA_LC as lc from DFasTABLE\")\n",
    "data_rd = [go.Histogram(x = df_rd.toPandas()['rd'])]\n",
    "data_cn = [go.Histogram(x = df_cn.toPandas()['cn'])]\n",
    "data_mt = [go.Histogram(x = df_mt.toPandas()['mt'])]\n",
    "data_ch = [go.Histogram(x = df_ch.toPandas()['ch'])]\n",
    "data_lc = [go.Histogram(x = df_lc.toPandas()['lc'])]"
   ]
  },
  {
   "cell_type": "markdown",
   "metadata": {},
   "source": [
    "### 3 - Geração de Visualizações: Histogramas e Pie Charts"
   ]
  },
  {
   "cell_type": "code",
   "execution_count": 23,
   "metadata": {},
   "outputs": [
    {
     "data": {
      "text/html": [
       "<iframe id=\"igraph\" scrolling=\"no\" style=\"border:none;\" seamless=\"seamless\" src=\"https://plot.ly/~vmunhozpf/21.embed\" height=\"525px\" width=\"100%\"></iframe>"
      ],
      "text/plain": [
       "<plotly.tools.PlotlyDisplay object>"
      ]
     },
     "execution_count": 23,
     "metadata": {},
     "output_type": "execute_result"
    }
   ],
   "source": [
    "\n",
    "layout = go.Layout(\n",
    "    title = \"Histograma: notas da prova de redação ENEM 2016\",\n",
    "    xaxis = dict(\n",
    "        range = [0, 1000]\n",
    "    )\n",
    ")\n",
    "\n",
    "fig = go.Figure(data = data_rd, layout = layout)\n",
    "py.plotly.iplot(fig, filename=\"enem2016_redacao\")"
   ]
  },
  {
   "cell_type": "code",
   "execution_count": 24,
   "metadata": {},
   "outputs": [
    {
     "data": {
      "text/html": [
       "<iframe id=\"igraph\" scrolling=\"no\" style=\"border:none;\" seamless=\"seamless\" src=\"https://plot.ly/~vmunhozpf/23.embed\" height=\"525px\" width=\"100%\"></iframe>"
      ],
      "text/plain": [
       "<plotly.tools.PlotlyDisplay object>"
      ]
     },
     "execution_count": 24,
     "metadata": {},
     "output_type": "execute_result"
    }
   ],
   "source": [
    "layout = go.Layout(\n",
    "    title = \"Histograma: notas da prova de ciências da natureza ENEM 2016\",\n",
    "    xaxis = dict(\n",
    "        range = [0, 1000]\n",
    "    )\n",
    ")\n",
    "\n",
    "fig = go.Figure(data = data_cn, layout = layout)\n",
    "py.plotly.iplot(fig, filename=\"enem2016_ciencias_da_natureza\")"
   ]
  },
  {
   "cell_type": "code",
   "execution_count": 25,
   "metadata": {},
   "outputs": [
    {
     "data": {
      "text/html": [
       "<iframe id=\"igraph\" scrolling=\"no\" style=\"border:none;\" seamless=\"seamless\" src=\"https://plot.ly/~vmunhozpf/25.embed\" height=\"525px\" width=\"100%\"></iframe>"
      ],
      "text/plain": [
       "<plotly.tools.PlotlyDisplay object>"
      ]
     },
     "execution_count": 25,
     "metadata": {},
     "output_type": "execute_result"
    }
   ],
   "source": [
    "layout = go.Layout(\n",
    "    title = \"Histograma: notas da prova de matemática ENEM 2016\",\n",
    "    xaxis = dict(\n",
    "        range = [0, 1000]\n",
    "    )\n",
    ")\n",
    "\n",
    "fig = go.Figure(data = data_mt, layout = layout)\n",
    "py.plotly.iplot(fig, filename=\"enem2016_matematica\")"
   ]
  },
  {
   "cell_type": "code",
   "execution_count": 26,
   "metadata": {},
   "outputs": [
    {
     "data": {
      "text/html": [
       "<iframe id=\"igraph\" scrolling=\"no\" style=\"border:none;\" seamless=\"seamless\" src=\"https://plot.ly/~vmunhozpf/27.embed\" height=\"525px\" width=\"100%\"></iframe>"
      ],
      "text/plain": [
       "<plotly.tools.PlotlyDisplay object>"
      ]
     },
     "execution_count": 26,
     "metadata": {},
     "output_type": "execute_result"
    }
   ],
   "source": [
    "layout = go.Layout(\n",
    "    title = \"Histograma: notas da prova de ciências humanas ENEM 2016\",\n",
    "    xaxis = dict(\n",
    "        range = [0, 1000]\n",
    "    )\n",
    ")\n",
    "\n",
    "fig = go.Figure(data = data_ch, layout = layout)\n",
    "py.plotly.iplot(fig, filename=\"enem2016_ciencias_humanas\")"
   ]
  },
  {
   "cell_type": "code",
   "execution_count": 27,
   "metadata": {},
   "outputs": [
    {
     "data": {
      "text/html": [
       "<iframe id=\"igraph\" scrolling=\"no\" style=\"border:none;\" seamless=\"seamless\" src=\"https://plot.ly/~vmunhozpf/29.embed\" height=\"525px\" width=\"100%\"></iframe>"
      ],
      "text/plain": [
       "<plotly.tools.PlotlyDisplay object>"
      ]
     },
     "execution_count": 27,
     "metadata": {},
     "output_type": "execute_result"
    }
   ],
   "source": [
    "layout = go.Layout(\n",
    "    title = \"Histograma: notas da prova de linguagem e comunicação ENEM 2016\",\n",
    "    xaxis = dict(\n",
    "        range = [0, 1000]\n",
    "    )\n",
    ")\n",
    "\n",
    "fig = go.Figure(data = data_lc, layout = layout)\n",
    "py.plotly.iplot(fig, filename=\"enem2016_linguagem_e_comunicacao\")"
   ]
  },
  {
   "cell_type": "code",
   "execution_count": 28,
   "metadata": {},
   "outputs": [
    {
     "name": "stdout",
     "output_type": "stream",
     "text": [
      "+----+-----+\n",
      "|Q006|count|\n",
      "+----+-----+\n",
      "|   K|   82|\n",
      "|   I|  250|\n",
      "|   G|  536|\n",
      "|   P|   60|\n",
      "|   B| 1264|\n",
      "|null| 7201|\n",
      "|   D| 1021|\n",
      "|   O|   82|\n",
      "|   L|   45|\n",
      "|   A|  138|\n",
      "|   H|  394|\n",
      "|   E|  740|\n",
      "|   J|  129|\n",
      "|   F|  484|\n",
      "|   Q|   68|\n",
      "|   C| 1759|\n",
      "|   N|   95|\n",
      "|   M|   54|\n",
      "+----+-----+\n",
      "\n"
     ]
    }
   ],
   "source": [
    "df.cube(\"Q006\").count().show()"
   ]
  },
  {
   "cell_type": "code",
   "execution_count": 29,
   "metadata": {},
   "outputs": [
    {
     "data": {
      "text/html": [
       "<iframe id=\"igraph\" scrolling=\"no\" style=\"border:none;\" seamless=\"seamless\" src=\"https://plot.ly/~vmunhozpf/41.embed\" height=\"525px\" width=\"100%\"></iframe>"
      ],
      "text/plain": [
       "<plotly.tools.PlotlyDisplay object>"
      ]
     },
     "execution_count": 29,
     "metadata": {},
     "output_type": "execute_result"
    }
   ],
   "source": [
    "labels = ['1 SM','2 SM','3 SM','4 SM','5 SM','6 SM','7 SM','8 SM','9 SM','10 SM','11 SM','12 SM','13 SM','14 SM','15 SM','16 SM','17 SM']\n",
    "values = [138,1264,1759,1021,740,484,536,394,250,129,82,45,54,95,82,60,68]\n",
    "\n",
    "trace = go.Pie(labels = labels, values = values)\n",
    "\n",
    "py.plotly.iplot([trace], filename='basic_pie_chart')"
   ]
  },
  {
   "cell_type": "code",
   "execution_count": 31,
   "metadata": {},
   "outputs": [
    {
     "data": {
      "text/html": [
       "<iframe id=\"igraph\" scrolling=\"no\" style=\"border:none;\" seamless=\"seamless\" src=\"https://plot.ly/~vmunhozpf/43.embed\" height=\"525px\" width=\"100%\"></iframe>"
      ],
      "text/plain": [
       "<plotly.tools.PlotlyDisplay object>"
      ]
     },
     "execution_count": 31,
     "metadata": {},
     "output_type": "execute_result"
    }
   ],
   "source": [
    "df_q1 = sqlCtx.sql(\"SELECT Q001 as q1 from DFasTABLE\")\n",
    "df_q2 = sqlCtx.sql(\"SELECT Q002 as q2 from DFasTABLE\")\n",
    "\n",
    "trace1 = go.Histogram(\n",
    "    x=df_q1.toPandas()['q1'],\n",
    "    opacity=0.3,\n",
    "    name=\"Escolaridade do Pai\"\n",
    ")\n",
    "trace2 = go.Histogram(\n",
    "    x=df_q2.toPandas()['q2'],\n",
    "    opacity=0.3,\n",
    "    name=\"Escolaridade da Mãe\"\n",
    ")\n",
    "\n",
    "data = [trace1, trace2]\n",
    "layout = go.Layout(barmode='overlay')\n",
    "fig = go.Figure(data=data, layout=layout)\n",
    "\n",
    "py.plotly.iplot(fig, filename='overlaid histogram')"
   ]
  },
  {
   "cell_type": "code",
   "execution_count": 33,
   "metadata": {},
   "outputs": [
    {
     "data": {
      "text/html": [
       "<iframe id=\"igraph\" scrolling=\"no\" style=\"border:none;\" seamless=\"seamless\" src=\"https://plot.ly/~vmunhozpf/45.embed\" height=\"525px\" width=\"100%\"></iframe>"
      ],
      "text/plain": [
       "<plotly.tools.PlotlyDisplay object>"
      ]
     },
     "execution_count": 33,
     "metadata": {},
     "output_type": "execute_result"
    }
   ],
   "source": [
    "labels = ['Homens', 'Mulheres']\n",
    "values = [2906, 4295]\n",
    "\n",
    "trace = go.Pie(labels = labels, values = values)\n",
    "\n",
    "py.plotly.iplot([trace], filename='basic_pie_chart2')"
   ]
  }
 ],
 "metadata": {
  "kernelspec": {
   "display_name": "Python 3.5 with Spark 2.1",
   "language": "python",
   "name": "python3-spark21"
  },
  "language_info": {
   "codemirror_mode": {
    "name": "ipython",
    "version": 3
   },
   "file_extension": ".py",
   "mimetype": "text/x-python",
   "name": "python",
   "nbconvert_exporter": "python",
   "pygments_lexer": "ipython3",
   "version": "3.5.4"
  }
 },
 "nbformat": 4,
 "nbformat_minor": 1
}
